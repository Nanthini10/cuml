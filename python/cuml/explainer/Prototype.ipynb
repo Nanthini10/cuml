{
 "cells": [
  {
   "cell_type": "code",
   "execution_count": 65,
   "id": "08dda10b-d800-4c0a-a8f1-10b435aecd8f",
   "metadata": {},
   "outputs": [],
   "source": [
    "import cupy as cp\n",
    "from cuml import KMeans\n",
    "from cuml.preprocessing import SimpleImputer\n",
    "from scipy.sparse import issparse\n",
    "\n",
    "\n",
    "def cp_kmeans(X, k, round_values=True, dense=False):\n",
    "    group_names = [str(i) for i in range(X.shape[1])]\n",
    "    if 'cudf' in str(type(X)):\n",
    "        group_names = X.columns\n",
    "        X = X.values\n",
    "\n",
    "    # in case there are any missing values in data impute them\n",
    "    imp = SimpleImputer(missing_values=np.nan, strategy='mean')\n",
    "    X = imp.fit_transform(X)\n",
    "\n",
    "    kmeans = KMeans(n_clusters=k, random_state=0).fit(X)\n",
    "\n",
    "    if round_values:\n",
    "        for i in range(k):\n",
    "            for j in range(X.shape[1]):\n",
    "                xj = X[:, j].toarray().flatten() if issparse(\n",
    "                    X) else X[:, j]  # sparse support courtesy of @PrimozGodec\n",
    "                ind = np.argmin(np.abs(xj - kmeans.cluster_centers_[i, j]))\n",
    "                kmeans.cluster_centers_[i, j] = X[ind, j]\n",
    "    data = kmeans.cluster_centers_\n",
    "    groups = [np.array([i]) for i in range(len(group_names))]\n",
    "\n",
    "    length = sum(len(g) for g in groups)\n",
    "    num_samples = data.shape[0]\n",
    "    t = False\n",
    "    if length != data.shape[1]:\n",
    "        t = True\n",
    "        num_samples = data.shape[1]\n",
    "\n",
    "    valid = ( not t and length == data.shape[1]) or (t and length == data.shape[0])\n",
    "    assert valid, \"# of names must match data matrix!\"\n",
    "\n",
    "    weights = 1.0 *cp.bincount(kmeans.labels_)\n",
    "    weights /= cp.sum(weights)\n",
    "    wl = len(weights)\n",
    "    valid = (not t and wl == data.shape[0]) or (t and wl == data.shape[1])\n",
    "    assert valid, \"# weights must match data matrix!\"\n",
    "    return data, group_names, weights\n",
    "#     if dense:\n",
    "#         # I can either keep densedata here or move this wrapper to interpret-community\n",
    "#         return DenseData(\n",
    "#             kmeans.cluster_centers_,\n",
    "#             group_names,\n",
    "#             None,\n",
    "#             1.0 *\n",
    "#             cp.bincount(\n",
    "#                 kmeans.labels_))\n",
    "#     else:\n",
    "#         return kmeans.cluster_centers_, group_names, cp.bincount(kmeans.labels_)\n",
    "\n",
    "\n",
    "class Data:\n",
    "    def __init__(self):\n",
    "        pass\n",
    "\n",
    "\n",
    "class DenseData(Data):\n",
    "    def __init__(self, data, group_names, *args):\n",
    "#         import pdb; pdb.set_trace()\n",
    "        self.groups = args[0] if len(args) > 0 and args[0] is not None else [\n",
    "            np.array([i]) for i in range(len(group_names))]\n",
    "\n",
    "        length = sum(len(g) for g in self.groups)\n",
    "        num_samples = data.shape[0]\n",
    "        t = False\n",
    "        if length != data.shape[1]:\n",
    "            t = True\n",
    "            num_samples = data.shape[1]\n",
    "\n",
    "        valid = (\n",
    "            not t and length == data.shape[1]) or (\n",
    "            t and length == data.shape[0])\n",
    "        assert valid, \"# of names must match data matrix!\"\n",
    "\n",
    "        self.weights = args[1] if len(args) > 1 else cp.ones(num_samples)\n",
    "        self.weights /= cp.sum(self.weights)\n",
    "        wl = len(self.weights)\n",
    "        valid = (not t and wl == data.shape[0]) or (t and wl == data.shape[1])\n",
    "        assert valid, \"# weights must match data matrix!\"\n",
    "\n",
    "        self.transposed = t\n",
    "        self.group_names = group_names\n",
    "        self.data = data\n",
    "        self.groups_size = len(self.groups)\n"
   ]
  },
  {
   "cell_type": "code",
   "execution_count": 66,
   "id": "fa72e44a-c689-479f-a24d-3a3b0b788deb",
   "metadata": {},
   "outputs": [
    {
     "data": {
      "text/html": [
       "<div>\n",
       "<style scoped>\n",
       "    .dataframe tbody tr th:only-of-type {\n",
       "        vertical-align: middle;\n",
       "    }\n",
       "\n",
       "    .dataframe tbody tr th {\n",
       "        vertical-align: top;\n",
       "    }\n",
       "\n",
       "    .dataframe thead th {\n",
       "        text-align: right;\n",
       "    }\n",
       "</style>\n",
       "<table border=\"1\" class=\"dataframe\">\n",
       "  <thead>\n",
       "    <tr style=\"text-align: right;\">\n",
       "      <th></th>\n",
       "      <th>a</th>\n",
       "      <th>b</th>\n",
       "    </tr>\n",
       "  </thead>\n",
       "  <tbody>\n",
       "    <tr>\n",
       "      <th>0</th>\n",
       "      <td>0</td>\n",
       "      <td>0</td>\n",
       "    </tr>\n",
       "    <tr>\n",
       "      <th>1</th>\n",
       "      <td>1</td>\n",
       "      <td>1</td>\n",
       "    </tr>\n",
       "    <tr>\n",
       "      <th>2</th>\n",
       "      <td>2</td>\n",
       "      <td>2</td>\n",
       "    </tr>\n",
       "    <tr>\n",
       "      <th>3</th>\n",
       "      <td>3</td>\n",
       "      <td>3</td>\n",
       "    </tr>\n",
       "    <tr>\n",
       "      <th>4</th>\n",
       "      <td>4</td>\n",
       "      <td>4</td>\n",
       "    </tr>\n",
       "  </tbody>\n",
       "</table>\n",
       "</div>"
      ],
      "text/plain": [
       "   a  b\n",
       "0  0  0\n",
       "1  1  1\n",
       "2  2  2\n",
       "3  3  3\n",
       "4  4  4"
      ]
     },
     "execution_count": 66,
     "metadata": {},
     "output_type": "execute_result"
    }
   ],
   "source": [
    "import cudf \n",
    "X = cudf.DataFrame({'a':cp.arange(100),\n",
    "                       'b':cp.arange(100)\n",
    "                    })\n",
    "X.head()"
   ]
  },
  {
   "cell_type": "code",
   "execution_count": 67,
   "id": "ba4fa37a-9f1c-4bce-bf5a-8f76a23fa80e",
   "metadata": {},
   "outputs": [],
   "source": [
    "tmp = cp_kmeans(X, 3)"
   ]
  },
  {
   "cell_type": "code",
   "execution_count": 68,
   "id": "e33389c7-d6de-4334-b107-7bfdd4abf4e1",
   "metadata": {},
   "outputs": [
    {
     "data": {
      "text/plain": [
       "(array([[51., 51.],\n",
       "        [17., 17.],\n",
       "        [83., 83.]]),\n",
       " Index(['a', 'b'], dtype='object'),\n",
       " array([0.33, 0.35, 0.32]))"
      ]
     },
     "execution_count": 68,
     "metadata": {},
     "output_type": "execute_result"
    }
   ],
   "source": [
    "tmp"
   ]
  },
  {
   "cell_type": "code",
   "execution_count": 48,
   "id": "03fa0491-a5a6-4643-a608-bdb9a666af5b",
   "metadata": {},
   "outputs": [
    {
     "data": {
      "text/plain": [
       "(array([[51., 51.],\n",
       "        [17., 17.],\n",
       "        [83., 83.]]),\n",
       " Index(['a', 'b'], dtype='object'),\n",
       " array([33, 35, 32]))"
      ]
     },
     "execution_count": 48,
     "metadata": {},
     "output_type": "execute_result"
    }
   ],
   "source": [
    "lgt = cp_kmeans(X, 3, dense=False)\n",
    "lgt"
   ]
  },
  {
   "cell_type": "code",
   "execution_count": 50,
   "id": "acc203e1-2b26-4654-ac2d-95db0d6417db",
   "metadata": {},
   "outputs": [
    {
     "data": {
      "text/plain": [
       "(array([[51., 51.],\n",
       "        [17., 17.],\n",
       "        [83., 83.]]),\n",
       " Index(['a', 'b'], dtype='object'),\n",
       " array([0.33, 0.35, 0.32]))"
      ]
     },
     "execution_count": 50,
     "metadata": {},
     "output_type": "execute_result"
    }
   ],
   "source": [
    "dns = cp_kmeans(X, 3, dense=True)\n",
    "dns.data, dns.group_names, dns.weights"
   ]
  },
  {
   "cell_type": "code",
   "execution_count": null,
   "id": "d6bd7662-0b5f-4ab5-9884-f5d90cc3df11",
   "metadata": {},
   "outputs": [],
   "source": []
  }
 ],
 "metadata": {
  "kernelspec": {
   "display_name": "Python 3",
   "language": "python",
   "name": "python3"
  },
  "language_info": {
   "codemirror_mode": {
    "name": "ipython",
    "version": 3
   },
   "file_extension": ".py",
   "mimetype": "text/x-python",
   "name": "python",
   "nbconvert_exporter": "python",
   "pygments_lexer": "ipython3",
   "version": "3.8.10"
  }
 },
 "nbformat": 4,
 "nbformat_minor": 5
}
